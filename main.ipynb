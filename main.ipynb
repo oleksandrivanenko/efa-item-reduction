{
  "nbformat": 4,
  "nbformat_minor": 0,
  "metadata": {
    "colab": {
      "provenance": []
    },
    "kernelspec": {
      "name": "python3",
      "display_name": "Python 3"
    },
    "language_info": {
      "name": "python"
    }
  },
  "cells": [
    {
      "cell_type": "code",
      "source": [
        "# Import libraries\n",
        "\n",
        "import openpyxl\n",
        "from openpyxl.styles import PatternFill"
      ],
      "metadata": {
        "id": "BNprpSFHOJmo"
      },
      "execution_count": 2,
      "outputs": []
    },
    {
      "cell_type": "code",
      "execution_count": 3,
      "metadata": {
        "id": "f8JImrOsIc8a",
        "colab": {
          "base_uri": "https://localhost:8080/"
        },
        "outputId": "fa8ddd65-4a0b-4647-aa90-50ec37f827be"
      },
      "outputs": [
        {
          "output_type": "stream",
          "name": "stdout",
          "text": [
            "('HLQA1', '0.119*', '0.325*', '0.143*', 0.025)\n",
            "('HLQA2', '0.346*', -0.088, '0.452*', '-0.137*')\n",
            "('HLQA3', '0.135*', '0.294*', '0.422*', '-0.091*')\n",
            "('HLQA4', '0.276*', '0.200*', '-0.108*', '0.220*')\n",
            "('HLQA5', -0.058, '0.407*', '0.168*', 0.042)\n",
            "('HLQA6', '0.665*', '-0.168*', 0.061, -0.024)\n",
            "('HLQA7', '0.427*', 0.071, '-0.138*', '0.209*')\n",
            "('HLQA8', '0.273*', '0.199*', '0.513*', '-0.197*')\n",
            "('HLQA9', '0.459*', '0.347*', -0.079, 0.038)\n",
            "('HLQA10', '-0.096*', '0.664*', '0.095*', 0.027)\n",
            "('HLQA11', 0.043, '0.537*', '0.137*', '-0.092*')\n",
            "('HLQA12', '0.336*', '0.205*', '-0.122*', '0.270*')\n",
            "('HLQA13', '0.366*', '0.429*', '-0.175*', '0.074*')\n",
            "('HLQA14', -0.02, '0.631*', '0.084*', '0.100*')\n",
            "('HLQA15', 0.01, '0.494*', -0.046, 0.004)\n",
            "('HLQA16', '0.156*', '0.419*', '-0.096*', '0.288*')\n",
            "('HLQA17', 0.055, '0.391*', '0.483*', '-0.102*')\n",
            "('HLQA18', '0.411*', 0.073, 0.034, 0.046)\n",
            "('HLQA19', '0.126*', '0.497*', '-0.115*', '0.075*')\n",
            "('HLQA20', '0.328*', 0.052, '0.372*', -0.013)\n",
            "('HLQA21', '0.419*', '0.318*', '-0.103*', '0.106*')\n",
            "('HLQA22', '0.228*', '0.246*', '0.551*', '-0.190*')\n",
            "('HLQA23', -0.063, '0.575*', '0.152*', '0.082*')\n",
            "('HLQB1', '-0.210*', '0.143*', '0.663*', -0.02)\n",
            "('HLQB2', '-0.246*', '0.136*', '0.629*', 0.043)\n",
            "('HLQB3', '-0.195*', '0.204*', '0.342*', '0.285*')\n",
            "('HLQB4', 0.022, -0.043, '0.843*', 0.038)\n",
            "('HLQB5', -0.025, 0.007, '0.129*', '0.600*')\n",
            "('HLQB6', -0.059, '0.136*', '0.142*', '0.516*')\n",
            "('HLQB7', 0.047, '-0.071*', '0.812*', '0.098*')\n",
            "('HLQB8', '-0.094*', '0.083*', '0.758*', '-0.081*')\n",
            "('HLQB9', 0.007, -0.028, '0.229*', '0.535*')\n",
            "('HLQB10', -0.062, '0.171*', '0.238*', '0.447*')\n",
            "('HLQB11', -0.017, 0.059, '0.528*', '0.245*')\n",
            "('HLQB12', '0.093*', -0.049, -0.006, '0.808*')\n",
            "('HLQB13', -0.025, '0.087*', '0.596*', '0.205*')\n",
            "('HLQB14', '0.062*', -0.053, 0.002, '0.791*')\n",
            "('HLQB15', 0.012, -0.054, '0.663*', '0.294*')\n",
            "('HLQB16', '-0.105*', '0.145*', '0.490*', '0.226*')\n",
            "('HLQB17', 0.023, 0.049, '-0.084*', '0.706*')\n",
            "('HLQB18', '-0.068*', '0.178*', 0.046, '0.628*')\n",
            "('HLQB19', '-0.127*', '0.204*', '0.255*', '0.419*')\n",
            "('HLQB20', 0.002, -0.03, '0.670*', '0.268*')\n",
            "('HLQB21', '-0.071*', 0.022, '0.123*', '0.703*')\n"
          ]
        }
      ],
      "source": [
        "# To show the data\n",
        "\n",
        "workbook = openpyxl.load_workbook('data.xlsx')\n",
        "worksheet = workbook['Sheet1']\n",
        "\n",
        "for row in worksheet.iter_rows(values_only=True):\n",
        "    print(row)"
      ]
    },
    {
      "cell_type": "code",
      "source": [
        "# To delete \"*\"\n",
        "\n",
        "for col in worksheet.columns:\n",
        "    for cell in col:\n",
        "        if '*' in str(cell.value):\n",
        "            cell.value = str(cell.value).replace('*', '')\n",
        "\n",
        "workbook.save('data.xlsx')"
      ],
      "metadata": {
        "id": "df39__O0O5OM"
      },
      "execution_count": 4,
      "outputs": []
    },
    {
      "cell_type": "code",
      "source": [
        "# To replace \",\" \".\"\n",
        "\n",
        "for col in worksheet.columns:\n",
        "    for cell in col:\n",
        "        if ',' in str(cell.value):\n",
        "            cell.value = str(cell.value).replace(',', '.')\n",
        "\n",
        "workbook.save('data.xlsx')"
      ],
      "metadata": {
        "id": "egScFLHLWsrh"
      },
      "execution_count": 5,
      "outputs": []
    },
    {
      "cell_type": "code",
      "source": [
        "# To change the datatype of the data to float\n",
        "\n",
        "for column in ['B', 'C','D', 'E', 'F', 'G', 'H', 'I']:\n",
        "    worksheet.column_dimensions[column].width = 10\n",
        "    \n",
        "    for cell in worksheet[column]:\n",
        "        if cell.data_type != 'f':  \n",
        "            cell.value = float(cell.value) if cell.value else None\n",
        "\n",
        "workbook.save('data.xlsx')\n"
      ],
      "metadata": {
        "id": "5ZpRcyG5ld-m"
      },
      "execution_count": 6,
      "outputs": []
    },
    {
      "cell_type": "code",
      "source": [
        "# To highlight the largest number in each row\n",
        "\n",
        "for row in worksheet.iter_rows(): \n",
        "    values = [cell.value for cell in row[1:8] if cell.value is not None]\n",
        "    if not values:\n",
        "        continue\n",
        "    max_value = max([float(value) for value in values if isinstance(value, (float, int))])\n",
        "    \n",
        "    for cell in row[1:8]:\n",
        "        if cell.value is not None and isinstance(cell.value, (float, int)) and cell.value == max_value:\n",
        "            cell.fill = PatternFill(start_color='FFFF00', end_color='FFFF00', fill_type='solid')\n",
        "\n",
        "workbook.save('data.xlsx')"
      ],
      "metadata": {
        "id": "3q3f6BIlW3Co"
      },
      "execution_count": null,
      "outputs": []
    }
  ]
}